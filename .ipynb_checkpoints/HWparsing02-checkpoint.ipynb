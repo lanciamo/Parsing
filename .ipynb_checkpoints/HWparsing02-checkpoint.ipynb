{
 "cells": [
  {
   "cell_type": "markdown",
   "metadata": {},
   "source": [
    "from bs4 import BeautifulSoup as bs\n",
    "import requests\n",
    "from pprint import pprint\n",
    "main_link = 'https://www.kinopoisk.ru'\n",
    "html = requests.get(main_link+'/afisha/new/city/1/').text\n",
    "parsed_html = bs(html,'lxml')\n",
    "\n",
    "films_block = parsed_html.find('div',{'class':'filmsListNew'})\n",
    "\n",
    "films_list = films_block.findChildren(recursive=False)\n",
    "\n",
    "films=[]\n",
    "for film in films_list:\n",
    "    film_data={}\n",
    "    main_info = film.find('div',{'class':'name'}).findChild()\n",
    "    film_name = main_info.getText()\n",
    "    film_link = main_link + main_info['href']\n",
    "    genre = film.find_all('div',{'class':'gray'})[1].getText().replace(' ','')[9:]\n",
    "    try:\n",
    "        rating = film.find('span',{'class':['rating_ball_green','rating_ball_grey','rating_ball_red']}).getText()\n",
    "    except Exception as e:\n",
    "        print(e)\n",
    "        rating = '0'\n",
    "    film_data['name'] = film_name\n",
    "    film_data['ganre'] = genre\n",
    "    film_data['link'] = film_link\n",
    "    film_data['rating'] = rating\n",
    "\n",
    "    films.append(film_data)\n",
    "\n",
    "pprint(films)"
   ]
  },
  {
   "cell_type": "code",
   "execution_count": 22,
   "metadata": {},
   "outputs": [],
   "source": [
    "from bs4 import BeautifulSoup as bs\n",
    "import json\n",
    "import requests\n",
    "import pandas as pd\n",
    "\n",
    "# from IPython.display import display, HTML\n",
    "# from getpass import getpass"
   ]
  },
  {
   "cell_type": "markdown",
   "metadata": {},
   "source": [
    "Для прекращения выполнения"
   ]
  },
  {
   "cell_type": "code",
   "execution_count": 23,
   "metadata": {},
   "outputs": [],
   "source": [
    "class StopExecution(Exception):\n",
    "    def _render_traceback_(self):\n",
    "        pass"
   ]
  },
  {
   "cell_type": "markdown",
   "metadata": {},
   "source": [
    "Константы и переменные"
   ]
  },
  {
   "cell_type": "code",
   "execution_count": 46,
   "metadata": {},
   "outputs": [
    {
     "name": "stdout",
     "output_type": "stream",
     "text": [
      "Название вакансии:Python\n"
     ]
    }
   ],
   "source": [
    "HOST = 'https://www.superjob.ru'\n",
    "host01 = '/vacancy/search/'\n",
    "search_spell = '?keywords=Data%20Science'\n",
    "# https://www.superjob.ru/vacancy/search/?keywords=Python&geo%5Bc%5D%5B0%5D\n",
    "geo = '%5Bc%5D%5B0%5D=1' #На всю страну Russia\n",
    "# username = input(\"Login:\")\n",
    "# password = getpass(\"Password\")\n",
    "name_of_vac = input('Название вакансии:')"
   ]
  },
  {
   "cell_type": "markdown",
   "metadata": {},
   "source": [
    "Отправление запроса на сервер"
   ]
  },
  {
   "cell_type": "code",
   "execution_count": 47,
   "metadata": {},
   "outputs": [
    {
     "name": "stdout",
     "output_type": "stream",
     "text": [
      "https://www.superjob.ru/vacancy/search/?keywords=Python&geo%5Bc%5D%5B0%5D=1\n"
     ]
    }
   ],
   "source": [
    "main_link = HOST+host01+'?keywords='+name_of_vac+'&geo'+geo\n",
    "print(main_link)"
   ]
  },
  {
   "cell_type": "code",
   "execution_count": 48,
   "metadata": {},
   "outputs": [],
   "source": [
    "try:\n",
    "#     req = requests.get(HOST+search_spell, auth=(username, password))\n",
    "    req = requests.get(main_link).text\n",
    "except Exception:\n",
    "    print('При подключении к серверу возникла ошибка.')\n",
    "    raise StopExecution"
   ]
  },
  {
   "cell_type": "markdown",
   "metadata": {},
   "source": []
  },
  {
   "cell_type": "code",
   "execution_count": 49,
   "metadata": {},
   "outputs": [],
   "source": [
    "parsed_html = bs(req,'lxml')"
   ]
  },
  {
   "cell_type": "code",
   "execution_count": 56,
   "metadata": {},
   "outputs": [
    {
     "data": {
      "text/plain": [
       "[{'site': 'superjob.ru',\n",
       "  'name': 'Программист Perl / Python',\n",
       "  'salary': '45 000 — 45 000 ₽',\n",
       "  'firma': 'Дом.ru',\n",
       "  'city': 'Пермь',\n",
       "  'link': 'https://www.superjob.ru/vakansii/programmist-perl-32783088.html'},\n",
       " {'site': 'superjob.ru',\n",
       "  'name': 'Аналитик python',\n",
       "  'salary': 'По договорённости',\n",
       "  'firma': 'Правительство Москвы',\n",
       "  'city': 'Москва',\n",
       "  'link': 'https://www.superjob.ru/vakansii/analitik-python-33087323.html'},\n",
       " {'site': 'superjob.ru',\n",
       "  'name': 'Программист Python',\n",
       "  'salary': 'По договорённости',\n",
       "  'firma': 'Кадровое решение СПб',\n",
       "  'city': 'Санкт-Петербург',\n",
       "  'link': 'https://www.superjob.ru/vakansii/programmist-python-32660913.html'},\n",
       " {'site': 'superjob.ru',\n",
       "  'name': 'Backend разработчик (Python / Django)',\n",
       "  'salary': '80 000 — 190 000 ₽',\n",
       "  'firma': 'СтройУчетСервис',\n",
       "  'city': 'Москва',\n",
       "  'link': 'https://www.superjob.ru/vakansii/backend-razrabotchik-32864203.html'},\n",
       " {'site': 'superjob.ru',\n",
       "  'name': 'Разработчик Python',\n",
       "  'salary': 'По договорённости',\n",
       "  'firma': 'Цифрасофт',\n",
       "  'city': 'Ижевск',\n",
       "  'link': 'https://www.superjob.ru/vakansii/razrabotchik-python-32759255.html'},\n",
       " {'site': 'superjob.ru',\n",
       "  'name': 'Программист на python',\n",
       "  'salary': 'По договорённости',\n",
       "  'firma': 'НТИМИ',\n",
       "  'city': 'Москва',\n",
       "  'link': 'https://www.superjob.ru/vakansii/programmist-na-python-31035766.html'},\n",
       " {'site': 'superjob.ru',\n",
       "  'name': 'Аналитик по прогнозированию',\n",
       "  'salary': 'По договорённости',\n",
       "  'firma': 'Hoff',\n",
       "  'city': 'Москва,Улица 1905 года',\n",
       "  'link': 'https://www.superjob.ru/vakansii/analitik-po-prognozirovaniyu-33090281.html'},\n",
       " {'site': 'superjob.ru',\n",
       "  'name': 'Ведущий программист / Начальник отдела программистов (team lead)',\n",
       "  'salary': 'По договорённости',\n",
       "  'firma': 'Индеструм',\n",
       "  'city': 'Москва',\n",
       "  'link': 'https://www.superjob.ru/vakansii/veduschij-programmist-32987978.html'},\n",
       " {'site': 'superjob.ru',\n",
       "  'name': 'Инженер Devops Stream',\n",
       "  'salary': 'По договорённости',\n",
       "  'firma': 'МТС',\n",
       "  'city': 'Пермь',\n",
       "  'link': 'https://www.superjob.ru/vakansii/inzhener-devops-stream-32883861.html'},\n",
       " {'site': 'superjob.ru',\n",
       "  'name': 'Инженер (программирование)',\n",
       "  'salary': 'от 40 000 ₽',\n",
       "  'firma': 'ВНИИФТРИ',\n",
       "  'city': 'Зеленоград',\n",
       "  'link': 'https://www.superjob.ru/vakansii/inzhener-33089911.html'},\n",
       " {'site': 'superjob.ru',\n",
       "  'name': 'Reverse Engineer',\n",
       "  'salary': '170 000 ₽',\n",
       "  'firma': 'АСТ',\n",
       "  'city': 'Москва,Волгоградский проспект, Угрешская',\n",
       "  'link': 'https://www.superjob.ru/vakansii/reverse-engineer-32672261.html'},\n",
       " {'site': 'superjob.ru',\n",
       "  'name': 'Ведущий эксперт по СУПП',\n",
       "  'salary': 'По договорённости',\n",
       "  'firma': '«Т Плюс»',\n",
       "  'city': 'Екатеринбург',\n",
       "  'link': 'https://www.superjob.ru/vakansii/veduschij-ekspert-po-supp-32618908.html'},\n",
       " {'site': 'superjob.ru',\n",
       "  'name': 'Релиз-инженер',\n",
       "  'salary': 'от 30 000 ₽',\n",
       "  'firma': 'Э-Студио',\n",
       "  'city': 'Йошкар-Ола',\n",
       "  'link': 'https://www.superjob.ru/vakansii/reliz-inzhener-32902390.html'},\n",
       " {'site': 'superjob.ru',\n",
       "  'name': 'Инженер, техник',\n",
       "  'salary': 'от 35 000 ₽',\n",
       "  'firma': 'ВНИИФТРИ',\n",
       "  'city': 'Зеленоград',\n",
       "  'link': 'https://www.superjob.ru/vakansii/inzhener-33089687.html'},\n",
       " {'site': 'superjob.ru',\n",
       "  'name': 'Тестировщик программного обеспечения',\n",
       "  'salary': 'По договорённости',\n",
       "  'firma': 'Правительство Москвы',\n",
       "  'city': 'Москва',\n",
       "  'link': 'https://www.superjob.ru/vakansii/testirovschik-programmnogo-obespecheniya-32202847.html'},\n",
       " {'site': 'superjob.ru',\n",
       "  'name': 'Системный администратор',\n",
       "  'salary': 'от 50 000 ₽',\n",
       "  'firma': 'ПРИМА',\n",
       "  'city': 'Москва,Ховрино',\n",
       "  'link': 'https://www.superjob.ru/vakansii/sistemnyj-administrator-33088419.html'},\n",
       " {'site': 'superjob.ru',\n",
       "  'name': 'Системный инженер',\n",
       "  'salary': 'По договорённости',\n",
       "  'firma': 'УГМК-Холдинг',\n",
       "  'city': 'Верхняя Пышма',\n",
       "  'link': 'https://www.superjob.ru/vakansii/sistemnyj-inzhener-32716975.html'},\n",
       " {'site': 'superjob.ru',\n",
       "  'name': 'Ведущий системный администратор',\n",
       "  'salary': 'от 40 000 ₽',\n",
       "  'firma': '\"Концерн \"Калашников\"',\n",
       "  'city': 'Ижевск',\n",
       "  'link': 'https://www.superjob.ru/vakansii/veduschij-sistemnyj-administrator-32621950.html'},\n",
       " {'site': 'superjob.ru',\n",
       "  'name': 'Системный администратор Linux',\n",
       "  'salary': 'По договорённости',\n",
       "  'firma': 'Otto Group Russia',\n",
       "  'city': 'Тверь',\n",
       "  'link': 'https://www.superjob.ru/vakansii/sistemnyj-administrator-linux-32925160.html'},\n",
       " {'site': 'superjob.ru',\n",
       "  'name': 'Бизнес-аналитик',\n",
       "  'salary': 'По договорённости',\n",
       "  'firma': 'Уральская горно-металлургическая компания',\n",
       "  'city': 'Екатеринбург',\n",
       "  'link': 'https://www.superjob.ru/vakansii/biznes-analitik-33012918.html'}]"
      ]
     },
     "execution_count": 56,
     "metadata": {},
     "output_type": "execute_result"
    }
   ],
   "source": [
    "div_block = parsed_html.find_all('div', {'class':'_3syPg _3P0J7 _9_FPy'})\n",
    "link_next = parsed_html.find('a', {'class': 'icMQ_ _1_Cht _3ze9n f-test-button-dalshe f-test-link-dalshe'})\n",
    "\n",
    "vacancies = []\n",
    "\n",
    "for v in div_block:\n",
    "        vac_data={}\n",
    "        try:\n",
    "            # Должность\n",
    "            name_div = v.find('div', {'class': '_3mfro CuJz5 PlM3e _2JVkc _3LJqf'}).getText()\n",
    "            # Зарплата\n",
    "            summ_span = v.find('span', {'class': \"_3mfro _2Wp8I f-test-text-company-item-salary PlM3e _2JVkc _2VHxz\"}).getText()\n",
    "            a_all = v.find_all('a')\n",
    "            href_a = a_all[0]['href']\n",
    "            # Ссылка на страницу вакансии\n",
    "            href_link = HOST + href_a\n",
    "            # Работадатель\n",
    "            comp = a_all[1].getText()\n",
    "            # Когда опубликована вакансия\n",
    "            time_div = v.find('span', {'class': '_3mfro _9fXTd _2JVkc _3e53o _3Ll36'})\n",
    "            # Город\n",
    "            town_div = time_div.findNextSiblings()[0].getText()\n",
    "\n",
    "            vac_data['site'] = 'superjob.ru'\n",
    "            vac_data['name'] = name_div\n",
    "            str_salary = summ_span.replace('\\xa0',' ')\n",
    "#             sum_min, sum_max = salary_sj(str_salary)\n",
    "#             vac_data['salary_min'] = sum_min\n",
    "#             vac_data['salary_max'] = sum_max\n",
    "            vac_data['salary'] = str_salary\n",
    "            vac_data['firma'] = comp\n",
    "            vac_data['city'] = town_div\n",
    "            #vac_data['time'] = time_div.getText()\n",
    "            vac_data['link'] = href_link\n",
    "            vacancies.append(vac_data)\n",
    "        except Exception  as e:\n",
    "            print(e)\n",
    "vacancies"
   ]
  },
  {
   "cell_type": "markdown",
   "metadata": {},
   "source": [
    "if req.ok:\n",
    "    rep_dict = req.json()\n",
    "    rep_df = pd.DataFrame(rep_dict, columns=['name', 'git_url', 'archived', 'updated_at'])\n",
    "    \n",
    "    with open('repos.json', 'w') as outfile:\n",
    "        json.dump(rep_df.to_json(), outfile)\n",
    "    \n",
    "    display(HTML(rep_df.to_html()))\n",
    "else :\n",
    "    print(f'Что-то пошло не так: {req.status_code}')"
   ]
  },
  {
   "cell_type": "code",
   "execution_count": null,
   "metadata": {},
   "outputs": [],
   "source": []
  }
 ],
 "metadata": {
  "kernelspec": {
   "display_name": "Python 3",
   "language": "python",
   "name": "python3"
  },
  "language_info": {
   "codemirror_mode": {
    "name": "ipython",
    "version": 3
   },
   "file_extension": ".py",
   "mimetype": "text/x-python",
   "name": "python",
   "nbconvert_exporter": "python",
   "pygments_lexer": "ipython3",
   "version": "3.7.4"
  }
 },
 "nbformat": 4,
 "nbformat_minor": 2
}

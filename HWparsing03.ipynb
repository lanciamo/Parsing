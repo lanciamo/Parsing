{
 "cells": [
  {
   "cell_type": "code",
   "execution_count": null,
   "metadata": {},
   "outputs": [],
   "source": [
    "import re\n",
    "import requests\n",
    "import time\n",
    "\n",
    "from bs4 import BeautifulSoup as bs\n",
    "from pymongo import MongoClient\n",
    "from requests.exceptions import HTTPError\n",
    "\n",
    "user_agent = 'Mozilla/5.0 (Windows NT 10.0; Win64; x64) AppleWebKit/537.36 (KHTML, like Gecko) Chrome/78.0.3904.97 ' \\\n",
    "             'Safari/537.36 '"
   ]
  },
  {
   "cell_type": "code",
   "execution_count": null,
   "metadata": {},
   "outputs": [],
   "source": [
    "def parse_hh(vacancy, pages, collection, mode=\"update\"):\n",
    "    search_url = \"https://hh.ru/search/vacancy\"\n",
    "\n",
    "    for page in range(pages):\n",
    "\n",
    "        time.sleep(1)\n",
    "\n",
    "        params = {\"text\": f\"{vacancy}\", \"page\": f\"{page}\"}\n",
    "\n",
    "        html = make_request(search_url, params=params)\n",
    "\n",
    "        if html is None:\n",
    "            continue\n",
    "\n",
    "        soup = bs(html, 'lxml')\n",
    "        job_list = soup.find_all(\"div\", class_=\"vacancy-serp-item\")\n",
    "        for job in job_list:\n",
    "            link = job.find('a').get('href', 'no link')\n",
    "            span = job.find_all(\"span\")\n",
    "            name = span[0].text\n",
    "            job_more = job.find_all('a')[1].text + ' ' + span[2].text + ' ' + span[5].text\n",
    "            salary_div = job.find(\"div\", class_=\"vacancy-serp-item__compensation\")\n",
    "            salary = \"З/П не указана\"\n",
    "            if salary_div:\n",
    "                salary = salary_div.get_text()\n",
    "\n",
    "            if mode == \"update\":\n",
    "                if not collection.find_one({\"link\": link}):\n",
    "                    collection.insert_one(format_data(name, link, salary, job_more, \"hh.ru\"))\n",
    "            else:\n",
    "                collection.insert_one(format_data(name, link, salary, job_more, \"hh.ru\"))"
   ]
  },
  {
   "cell_type": "code",
   "execution_count": null,
   "metadata": {},
   "outputs": [],
   "source": [
    "def make_request(url, params):\n",
    "    try:\n",
    "        resp = requests.get(url, params=params, headers={\"User-Agent\": f'{user_agent}'})\n",
    "        resp.raise_for_status()\n",
    "        return resp.text\n",
    "    except HTTPError as http_err:\n",
    "        print(f'HTTP error occurred: {http_err} while parsing (maybe number of pages was too big)')"
   ]
  },
  {
   "cell_type": "code",
   "execution_count": null,
   "metadata": {},
   "outputs": [],
   "source": [
    "def format_data(name, link, salary, info, site):\n",
    "    min_max = False\n",
    "    if \"—\" in salary:\n",
    "        min_s, max_s = salary.split(\"—\")\n",
    "        min_s = float(\"\".join(re.findall(r\"\\d+\", min_s)))\n",
    "        min_max = True\n",
    "    elif \"-\" in salary:\n",
    "        min_s, max_s = salary.split(\"-\")\n",
    "        min_s = float(\"\".join(re.findall(r\"\\d+\", min_s)))\n",
    "        min_max = True\n",
    "    elif \"от\" in salary.lower():\n",
    "        min_s = re.search(r\"от\\s*(\\d+[^до]*)(до|руб|kzt|₽|USD)\", salary.lower())\n",
    "        min_s = float(\"\".join(re.findall(r\"\\d+\", min_s.group(1)))) if min_s else salary\n",
    "        max_s = \"-\"\n",
    "        min_max = True\n",
    "    else:\n",
    "        return {\"name\": name, \"info\": info, \"link\": link, \"salary\": salary, \"site\": site}\n",
    "    if min_max:\n",
    "        return {\"name\": name, \"info\": info, \"link\": link, \"min_salary\": min_s, \"max_salary\": max_s, \"site\": site}"
   ]
  },
  {
   "cell_type": "code",
   "execution_count": null,
   "metadata": {},
   "outputs": [],
   "source": [
    "def parse_superjob(vacancy, pages, collection, mode=\"update\"):\n",
    "    base_url = \"https://www.superjob.ru\"\n",
    "    search_url = \"https://www.superjob.ru/vacancy/search\"\n",
    "\n",
    "    for page in range(1, pages + 1):\n",
    "\n",
    "        time.sleep(1)\n",
    "\n",
    "        params = {\"keywords\": f\"{vacancy}\", \"page\": f\"{page}\", \"geo[c][0]\": \"1\"}\n",
    "\n",
    "        html = make_request(search_url, params=params)\n",
    "\n",
    "        if html is None:\n",
    "            continue\n",
    "\n",
    "        soup = bs(html, 'lxml')\n",
    "        for job in soup.find_all(\"div\", class_=\"f-test-vacancy-item\"):\n",
    "            links = job.find_all(\"a\")\n",
    "            vac_link = \"No link\"\n",
    "            for link in links:\n",
    "                if not (link.get(\"href\", \"No link\").startswith(\"/clients\")):\n",
    "                    vac_link = link.get(\"href\")\n",
    "                    break\n",
    "\n",
    "            job_html = make_request(base_url + vac_link, params={})\n",
    "            job_soup = bs(job_html, 'lxml')\n",
    "            job_info = job_soup.find(\"div\", class_=\"_3MVeX\")\n",
    "            job_more = job_info.find(\"span\", class_=\"_3mfro _1hP6a _2JVkc\").getText()\n",
    "            name = job_info.find(\"h1\").get_text()\n",
    "            salary = job_info.find(\"span\", class_=\"_3mfro _2Wp8I ZON4b PlM3e _2JVkc\").get_text()\n",
    "\n",
    "            if mode == \"update\":\n",
    "                if not collection.find_one({\"link\": base_url + vac_link}):\n",
    "                    collection.insert_one(format_data(name, base_url + vac_link, salary, job_more, \"superjob.ru\"))\n",
    "            else:\n",
    "                collection.insert_one(format_data(name, base_url + vac_link, salary, job_more, \"superjob.ru\"))"
   ]
  },
  {
   "cell_type": "code",
   "execution_count": null,
   "metadata": {},
   "outputs": [],
   "source": [
    "def search_job(salary, collection):\n",
    "    for job in collection.find({\"min_salary\": {\"$gt\": salary}}):\n",
    "        print(\n",
    "            \"-\" * 79 + f\"\\n{job['name']} ({job['link']})\\nMin salary: {job['min_salary']}\\nAdditional: {job['info']}\\nMax salary: {job['max_salary']}\\nSite: {job['site']}\")"
   ]
  },
  {
   "cell_type": "code",
   "execution_count": null,
   "metadata": {},
   "outputs": [],
   "source": [
    "def main():\n",
    "    action = input(\n",
    "        \"And what do you want?\\n Choose:\\n[1] Parsing everything all over again\\n[2] Only update changes and \"\n",
    "        \"additions\\n \"\n",
    "        \"[3] Show positions with a salary above a given \\n[4] Drop current DataBase\\n[5] Exit\\n\")\n",
    "\n",
    "    client = MongoClient('localhost', 27017)\n",
    "    db = client.jobs_database\n",
    "    collection = db.jobs\n",
    "\n",
    "    if action == \"1\":\n",
    "        position = input(\"Input position your prefer: \")  # python\n",
    "        page_num = int(input(\"For how many pages do you want go deeper : \"))  # 2\n",
    "        parse_hh(position, page_num, collection, mode=\"all\")\n",
    "        parse_superjob(position, page_num, collection, mode=\"all\")\n",
    "    elif action == \"2\":\n",
    "        position = input(\"Input position your prefer: \")  # python\n",
    "        page_num = int(input(\"For how many pages do you want go deeper : \"))\n",
    "        parse_hh(position, page_num, collection, mode=\"update\")\n",
    "        parse_superjob(position, page_num, collection, mode=\"update\")\n",
    "    elif action == \"3\":\n",
    "        salary = float(input(\"From what salary will I look up?: \"))\n",
    "        search_job(salary, collection)\n",
    "    elif action == \"4\":\n",
    "        collection.drop()\n",
    "    elif action == \"5\":\n",
    "        return False"
   ]
  },
  {
   "cell_type": "code",
   "execution_count": null,
   "metadata": {},
   "outputs": [],
   "source": [
    "while __name__ == \"__main__\":\n",
    "    if not main():\n",
    "        break"
   ]
  }
 ],
 "metadata": {
  "kernelspec": {
   "display_name": "Python 3",
   "language": "python",
   "name": "python3"
  },
  "language_info": {
   "codemirror_mode": {
    "name": "ipython",
    "version": 3
   },
   "file_extension": ".py",
   "mimetype": "text/x-python",
   "name": "python",
   "nbconvert_exporter": "python",
   "pygments_lexer": "ipython3",
   "version": "3.7.4"
  }
 },
 "nbformat": 4,
 "nbformat_minor": 2
}
